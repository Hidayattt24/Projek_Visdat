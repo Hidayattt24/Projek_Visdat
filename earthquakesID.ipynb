{
 "cells": [
  {
   "cell_type": "markdown",
   "metadata": {},
   "source": [
    "---\n",
    "\n",
    "# 📚 Latar Belakang\n",
    "\n",
    "Indonesia dikenal sebagai salah satu negara yang terletak di wilayah **Cincin Api Pasifik (Pacific Ring of Fire)** 🌋, sebuah zona geologi aktif yang rentan terhadap aktivitas seismik seperti gempa bumi dan letusan gunung berapi. Hal ini menyebabkan **frekuensi gempa di Indonesia sangat tinggi**, mulai dari skala kecil yang sering tidak terasa, hingga gempa besar yang berdampak signifikan terhadap kehidupan masyarakat.\n",
    "\n",
    "Namun, meskipun gempa adalah fenomena yang sering terjadi, **masyarakat dan pemangku kebijakan masih sering kesulitan untuk memahami pola dan distribusinya**. Hal ini dikarenakan data gempa yang tersebar, tidak selalu rapi, serta sulit untuk dianalisis secara langsung tanpa alat bantu visual.\n",
    "\n",
    "---\n",
    "\n",
    "## 🎯 Permasalahan yang Ingin Diselesaikan\n",
    "\n",
    "🧩 Permasalahan utama yang ingin diselesaikan melalui proyek ini adalah:\n",
    "\n",
    "- 📌 **Kurangnya pemahaman visual terhadap distribusi gempa bumi di Indonesia** dari waktu ke waktu.\n",
    "- 📌 **Data yang tersedia dalam format mentah** cenderung tidak intuitif dan sulit dimaknai secara langsung.\n",
    "- 📌 **Kebutuhan akan alat bantu yang interaktif dan informatif** untuk membantu menginterpretasi tren dan karakteristik gempa (seperti kedalaman, magnitudo, dan lokasi).\n",
    "\n",
    "---\n",
    "\n",
    "## 🛠️ Solusi yang Ditawarkan\n",
    "\n",
    "Melalui proyek ini, kami melakukan:\n",
    "\n",
    "- **Penggabungan dan pembersihan data gempa** dari berbagai sumber terpercaya (USGS dan Kaggle).\n",
    "- **Preprocessing yang bertujuan merapikan data**, bukan memperbaiki nilai (misalnya bukan untuk imputasi missing value, melainkan seperti normalisasi lokasi, kategorisasi, dll).\n",
    "- **Pembuatan visualisasi interaktif berbasis web** yang memperlihatkan distribusi gempa berdasarkan:\n",
    "\n",
    "  - 🌍 **Lokasi geografis** (melalui pemetaan)\n",
    "  - 🕒 **Waktu kejadian**\n",
    "  - 📊 **Kedalaman dan magnitudo**\n",
    "\n",
    "> Visualisasi ini akan dibangun menggunakan **[D3.js](https://d3js.org/)**, sebuah pustaka JavaScript yang powerful untuk manipulasi data berbasis DOM dan SVG, sehingga **interaktif, informatif, dan bisa diakses langsung melalui browser**.\n",
    "\n",
    "---\n",
    "\n",
    "Dengan pendekatan ini, kami berharap:\n",
    "\n",
    "- Masyarakat dapat **lebih memahami sebaran gempa secara geografis dan temporal**.\n",
    "- Peneliti dan pengambil kebijakan dapat menggunakan data ini sebagai **referensi dalam mitigasi risiko bencana**.\n",
    "- Visualisasi yang disajikan mampu **mendekatkan informasi ilmiah kepada publik secara visual dan intuitif**."
   ]
  },
  {
   "cell_type": "markdown",
   "metadata": {},
   "source": [
    "---\n",
    "\n",
    "# 📥 Load & Gabungkan Dataset Gempa Indonesia (Raw)\n",
    "\n",
    "## 🌍 Sumber Dataset\n",
    "\n",
    "Proyek ini menggunakan dua sumber data utama tentang kejadian gempa di wilayah Indonesia:\n",
    "\n",
    "1. **USGS (United States Geological Survey)**  \n",
    "   - Data diperoleh dengan proses **scraping manual menggunakan Python**\n",
    "   - File scraping berada di: `script/USGS_ID.py`  \n",
    "   - Dataset tersimpan sebagai: `usgs_earthquake_data_ID.csv`\n",
    "\n",
    "2. **Kaggle Dataset**  \n",
    "   - Sumber: [Earthquakes in Indonesia - Kaggle](https://www.kaggle.com/datasets/kekavigi/earthquakes-in-indonesia/data)  \n",
    "   - Dataset tersimpan sebagai: `kaggle_earthquakes_ID.csv`\n",
    "\n",
    "📁 Kedua file ini disimpan di direktori: `./collectiondata/`\n",
    "\n",
    "---"
   ]
  },
  {
   "cell_type": "markdown",
   "metadata": {},
   "source": [
    "## 🐍 Kode Python Penggabungan Dataset"
   ]
  },
  {
   "cell_type": "code",
   "execution_count": 25,
   "metadata": {},
   "outputs": [],
   "source": [
    "import pandas as pd\n",
    "import re"
   ]
  },
  {
   "cell_type": "markdown",
   "metadata": {},
   "source": [
    "> **Import library**:  \n",
    "Kita menggunakan `pandas` untuk manipulasi data dan `re` (regex) yang akan digunakan nanti dalam preprocessing tahap selanjutnya.\n"
   ]
  },
  {
   "cell_type": "markdown",
   "metadata": {},
   "source": [
    "### 🔽 1. Load Dataset Mentah"
   ]
  },
  {
   "cell_type": "code",
   "execution_count": null,
   "metadata": {},
   "outputs": [],
   "source": [
    "# Load dataset mentah\n",
    "usgs_df = pd.read_csv(\"./collectiondata/usgs_earthquake_data_ID.csv\")\n",
    "kaggle_df = pd.read_csv(\"./collectiondata/kaggle_earthquakes_ID.csv\")\n"
   ]
  },
  {
   "cell_type": "markdown",
   "metadata": {},
   "source": [
    "📖 **Penjelasan**:  \n",
    "Membaca dua dataset mentah dari hasil scraping dan sumber publik. Keduanya memiliki struktur kolom yang berbeda sehingga perlu disesuaikan terlebih dahulu."
   ]
  },
  {
   "cell_type": "markdown",
   "metadata": {},
   "source": [
    "### 🔧 2. Penyesuaian Nama Kolom Kaggle"
   ]
  },
  {
   "cell_type": "code",
   "execution_count": null,
   "metadata": {},
   "outputs": [],
   "source": [
    "# Penyesuaian nama kolom kaggle agar seragam\n",
    "kaggle_df = kaggle_df.rename(columns={\n",
    "    \"ot\": \"time\",\n",
    "    \"lat\": \"latitude\",\n",
    "    \"lon\": \"longitude\",\n",
    "    \"depth\": \"depth\",\n",
    "    \"mag\": \"magnitude\",\n",
    "    \"remark\": \"place\"\n",
    "})"
   ]
  },
  {
   "cell_type": "markdown",
   "metadata": {},
   "source": [
    "⚙️ **Penjelasan**:  \n",
    "Kolom dari Kaggle disesuaikan dengan format yang sama seperti USGS agar proses penggabungan berjalan lancar (`rename` kolom)."
   ]
  },
  {
   "cell_type": "markdown",
   "metadata": {},
   "source": [
    "### 🏷️ 3. Tambahkan Kolom Sumber Data"
   ]
  },
  {
   "cell_type": "code",
   "execution_count": null,
   "metadata": {},
   "outputs": [],
   "source": [
    "# Tambahkan kolom sumber\n",
    "usgs_df[\"source\"] = \"USGS\"\n",
    "kaggle_df[\"source\"] = \"Kaggle\""
   ]
  },
  {
   "cell_type": "markdown",
   "metadata": {},
   "source": [
    "🔍 **Penjelasan**:  \n",
    "Untuk keperluan analisis dan pelacakan data, ditambahkan kolom baru bernama `source` yang berisi informasi apakah data berasal dari **USGS** atau **Kaggle**."
   ]
  },
  {
   "cell_type": "markdown",
   "metadata": {},
   "source": [
    "### ✂️ 4. Pilih Kolom Penting"
   ]
  },
  {
   "cell_type": "code",
   "execution_count": null,
   "metadata": {},
   "outputs": [],
   "source": [
    "# Ambil hanya kolom penting\n",
    "usgs_selected = usgs_df[[\"time\", \"latitude\", \"longitude\", \"depth\", \"magnitude\", \"place\", \"source\"]]\n",
    "kaggle_selected = kaggle_df[[\"time\", \"latitude\", \"longitude\", \"depth\", \"magnitude\", \"place\", \"source\"]]"
   ]
  },
  {
   "cell_type": "markdown",
   "metadata": {},
   "source": [
    "✅ **Penjelasan**:  \n",
    "Kita hanya memilih kolom yang relevan untuk analisis dan visualisasi:\n",
    "- Waktu (`time`)\n",
    "- Koordinat (`latitude`, `longitude`)\n",
    "- Parameter seismik (`depth`, `magnitude`)\n",
    "- Lokasi (`place`)\n",
    "- Asal data (`source`)"
   ]
  },
  {
   "cell_type": "markdown",
   "metadata": {},
   "source": [
    "### 🔗 5. Gabungkan Kedua Dataset"
   ]
  },
  {
   "cell_type": "code",
   "execution_count": null,
   "metadata": {},
   "outputs": [],
   "source": [
    "# Gabungkan kedua dataset mentah\n",
    "combined_raw = pd.concat([usgs_selected, kaggle_selected], ignore_index=True)"
   ]
  },
  {
   "cell_type": "markdown",
   "metadata": {},
   "source": [
    "🧩 **Penjelasan**:  \n",
    "Menggabungkan dua dataset menjadi satu DataFrame.  \n",
    "Parameter `ignore_index=True` memastikan index di-reset dari awal."
   ]
  },
  {
   "cell_type": "markdown",
   "metadata": {},
   "source": [
    "### 💾 6. Simpan Dataset Gabungan Mentah"
   ]
  },
  {
   "cell_type": "code",
   "execution_count": null,
   "metadata": {},
   "outputs": [],
   "source": [
    "# Simpan hasil gabungan awal ke file\n",
    "combined_raw.to_csv(\"./collectiondata/combined_earthquakes_raw.csv\", index=False)"
   ]
  },
  {
   "cell_type": "markdown",
   "metadata": {},
   "source": [
    "📝 **Penjelasan**:  \n",
    "Dataset gabungan mentah disimpan ke file `combined_earthquakes_raw.csv` yang nantinya akan diproses lebih lanjut dalam tahapan *preprocessing* berikutnya."
   ]
  },
  {
   "cell_type": "markdown",
   "metadata": {},
   "source": [
    "### 🧪 7. Cek Data Awal"
   ]
  },
  {
   "cell_type": "code",
   "execution_count": null,
   "metadata": {},
   "outputs": [],
   "source": [
    "# Info\n",
    "print(\"✅ Data berhasil digabungkan!\")\n",
    "print(\"Jumlah Baris:\", combined_raw.shape[0])\n",
    "print(\"Jumlah Kolom:\", combined_raw.shape[1])\n",
    "\n",
    "# Tampilkan data contoh\n",
    "combined_raw.head()\n"
   ]
  },
  {
   "cell_type": "markdown",
   "metadata": {},
   "source": [
    "🔎 **Penjelasan**:  \n",
    "Menampilkan informasi jumlah baris dan kolom serta beberapa data awal untuk memverifikasi hasil penggabungan dataset."
   ]
  },
  {
   "cell_type": "markdown",
   "metadata": {},
   "source": [
    "---\n",
    "\n",
    "# **🧹 Preprocessing Data Gempa Indonesia**\n",
    "\n",
    "## **📌 Pendahuluan**\n",
    "\n",
    "Proses *preprocessing* data ini **tidak difokuskan pada penanganan umum seperti missing values, outliers, atau normalisasi angka**. Sebaliknya, tahap ini lebih berfungsi untuk:\n",
    "\n",
    "✅ **Membersihkan noise teks**  \n",
    "✅ **Menstandarkan informasi lokasi**  \n",
    "✅ **Mengklasifikasikan kategori tertentu (magnitudo, kedalaman, dan region)**  \n",
    "✅ **Mengorganisir ulang kolom supaya siap digunakan untuk analisis atau visualisasi**\n",
    "\n",
    "File yang digunakan adalah gabungan dua sumber (`USGS` dan `Kaggle`) yang sebelumnya telah digabung menjadi `combined_earthquakes_raw.csv`."
   ]
  },
  {
   "cell_type": "markdown",
   "metadata": {},
   "source": [
    "## 🧩 Langkah 1: Load Dataset Gabungan"
   ]
  },
  {
   "cell_type": "code",
   "execution_count": 18,
   "metadata": {},
   "outputs": [],
   "source": [
    "# Load dataset gabungan mentah\n",
    "combined_df = pd.read_csv(\"./collectiondata/combined_earthquakes_raw.csv\")"
   ]
  },
  {
   "cell_type": "markdown",
   "metadata": {},
   "source": [
    "📖 **Penjelasan**:  \n",
    "Kita menggunakan `pandas` untuk membaca dataset mentah hasil penggabungan dua sumber. Dataset ini menjadi bahan utama untuk proses selanjutnya."
   ]
  },
  {
   "cell_type": "markdown",
   "metadata": {},
   "source": [
    "## ✂️ Langkah 2: Membersihkan Nama Lokasi (`place`)"
   ]
  },
  {
   "cell_type": "code",
   "execution_count": 19,
   "metadata": {},
   "outputs": [],
   "source": [
    "# 🔧 Bersihkan kolom place agar hanya menyisakan nama lokasi utama\n",
    "def clean_place_name(place):\n",
    "    if pd.isna(place):\n",
    "        return \"Unknown\"\n",
    "    \n",
    "    # Hilangkan arah dan jarak di depan (misal \"62 km W of \")\n",
    "    place = re.sub(r\"^\\d+\\s*km\\s*[A-Z]*\\s*of\\s*\", \"\", place, flags=re.IGNORECASE)\n",
    "    \n",
    "    # Hilangkan \", Indonesia\" atau \"Indonesia\" di akhir\n",
    "    place = re.sub(r\",?\\s*indonesia\\s*$\", \"\", place, flags=re.IGNORECASE)\n",
    "    \n",
    "    return place.strip()\n",
    "\n",
    "combined_df[\"place\"] = combined_df[\"place\"].apply(clean_place_name)\n"
   ]
  },
  {
   "cell_type": "markdown",
   "metadata": {},
   "source": [
    "📖 **Penjelasan**:  \n",
    "Beberapa nama lokasi memiliki noise seperti `\"62 km W of Banda Aceh\"` atau `\"Padang, Indonesia\"`.  \n",
    "Blok kode ini menghapus:\n",
    "\n",
    "- Jarak & arah (`\"62 km W of\"` jadi `\"Banda Aceh\"`)\n",
    "- Akhiran `\"Indonesia\"` agar lebih ringkas dan bisa dikategorikan lebih akurat nanti"
   ]
  },
  {
   "cell_type": "markdown",
   "metadata": {},
   "source": [
    "## 🗺️ Langkah 3: Klasifikasi Wilayah (`region`)"
   ]
  },
  {
   "cell_type": "code",
   "execution_count": 20,
   "metadata": {},
   "outputs": [],
   "source": [
    "# Tambahkan kolom region berdasarkan 'place'\n",
    "def extract_region(place):\n",
    "    if pd.isna(place) or place.strip() == \"\":\n",
    "        return \"Indonesia\"\n",
    "    place = place.lower()\n",
    "    if \"sumatra\" in place or \"aceh\" in place or \"padang\" in place:\n",
    "        return \"Sumatra\"\n",
    "    elif \"java\" in place or \"jakarta\" in place or \"yogyakarta\" in place or \"bandung\" in place:\n",
    "        return \"Java\"\n",
    "    elif \"kalimantan\" in place or \"borneo\" in place:\n",
    "        return \"Kalimantan\"\n",
    "    elif \"sulawesi\" in place or \"makassar\" in place or \"palu\" in place:\n",
    "        return \"Sulawesi\"\n",
    "    elif \"papua\" in place or \"irian\" in place:\n",
    "        return \"Papua\"\n",
    "    elif \"bali\" in place or \"ntt\" in place or \"ntb\" in place:\n",
    "        return \"Nusa Tenggara\"\n",
    "    elif \"maluku\" in place or \"ambon\" in place:\n",
    "        return \"Maluku\"\n",
    "    else:\n",
    "        return \"Indonesia\"  # Default jika tidak spesifik\n",
    "\n",
    "combined_df[\"region\"] = combined_df[\"place\"].apply(extract_region)\n"
   ]
  },
  {
   "cell_type": "markdown",
   "metadata": {},
   "source": [
    "📖 **Penjelasan**:  \n",
    "Blok ini mengkategorikan lokasi (`place`) ke dalam region geografis utama Indonesia seperti: `Sumatra`, `Java`, `Kalimantan`, dll.  \n",
    "Tujuannya agar analisis bisa lebih terfokus per wilayah.\n"
   ]
  },
  {
   "cell_type": "markdown",
   "metadata": {},
   "source": [
    "## 📊 Langkah 4: Klasifikasi Magnitudo"
   ]
  },
  {
   "cell_type": "code",
   "execution_count": 21,
   "metadata": {},
   "outputs": [],
   "source": [
    "# Tambahkan kolom magnitude_category\n",
    "def categorize_magnitude(mag):\n",
    "    if pd.isna(mag):\n",
    "        return \"Unknown\"\n",
    "    elif mag < 2.0:\n",
    "        return \"Micro\"\n",
    "    elif mag < 4.0:\n",
    "        return \"Minor\"\n",
    "    elif mag < 5.0:\n",
    "        return \"Light\"\n",
    "    elif mag < 6.0:\n",
    "        return \"Moderate\"\n",
    "    elif mag < 7.0:\n",
    "        return \"Strong\"\n",
    "    elif mag < 8.0:\n",
    "        return \"Major\"\n",
    "    else:\n",
    "        return \"Great\"\n",
    "\n",
    "combined_df[\"magnitude_category\"] = combined_df[\"magnitude\"].apply(categorize_magnitude)\n"
   ]
  },
  {
   "cell_type": "markdown",
   "metadata": {},
   "source": [
    "📖 **Penjelasan**:  \n",
    "Magnitudo dikategorikan ke dalam level seperti:\n",
    "\n",
    "- `Micro` (< 2.0)\n",
    "- `Minor` (2.0 - 3.9)\n",
    "- ...\n",
    "- `Great` (≥ 8.0)\n",
    "\n",
    "Ini penting untuk analisis dampak dan intensitas gempa."
   ]
  },
  {
   "cell_type": "markdown",
   "metadata": {},
   "source": [
    "## 🧭 Langkah 5: Klasifikasi Kedalaman"
   ]
  },
  {
   "cell_type": "code",
   "execution_count": 22,
   "metadata": {},
   "outputs": [],
   "source": [
    "# Tambahkan kolom depth_category\n",
    "def categorize_depth(depth):\n",
    "    if pd.isna(depth):\n",
    "        return \"Unknown\"\n",
    "    elif depth < 70:\n",
    "        return \"Shallow\"\n",
    "    elif depth < 300:\n",
    "        return \"Intermediate\"\n",
    "    else:\n",
    "        return \"Deep\"\n",
    "\n",
    "combined_df[\"depth_category\"] = combined_df[\"depth\"].apply(categorize_depth)\n"
   ]
  },
  {
   "cell_type": "markdown",
   "metadata": {},
   "source": [
    "📖**Penjelasan**:  \n",
    "Depth (kedalaman) gempa dikategorikan menjadi:\n",
    "\n",
    "- `Shallow` (< 70 km)\n",
    "- `Intermediate` (70–299 km)\n",
    "- `Deep` (≥ 300 km)\n",
    "\n",
    "Kategori ini sering digunakan untuk memahami jenis gempa dan potensi kerusakannya."
   ]
  },
  {
   "cell_type": "markdown",
   "metadata": {},
   "source": [
    "## 🗃️ Langkah 6: Urutkan Kolom"
   ]
  },
  {
   "cell_type": "code",
   "execution_count": null,
   "metadata": {},
   "outputs": [],
   "source": [
    "# Urutkan kolom sesuai permintaan\n",
    "final_columns = [\n",
    "    \"time\", \"region\", \"place\", \"latitude\", \"longitude\",\n",
    "    \"depth\", \"magnitude\", \"magnitude_category\", \"depth_category\", \"source\"\n",
    "]\n",
    "combined_df = combined_df[final_columns]\n"
   ]
  },
  {
   "cell_type": "markdown",
   "metadata": {},
   "source": [
    "📖**Penjelasan**:  \n",
    "Kolom-kolom disusun ulang supaya konsisten dan mudah dibaca. Ini penting untuk *clean output* terutama saat digunakan dalam analisis selanjutnya."
   ]
  },
  {
   "cell_type": "markdown",
   "metadata": {},
   "source": [
    "## 💾 Langkah 7: Simpan Dataset yang Sudah Diproses"
   ]
  },
  {
   "cell_type": "code",
   "execution_count": null,
   "metadata": {},
   "outputs": [],
   "source": [
    "# Simpan hasil preprocessing ke file CSV baru\n",
    "combined_df.to_csv(\"./collectiondata/combined_earthquakes_ID.csv\", index=False)"
   ]
  },
  {
   "cell_type": "markdown",
   "metadata": {},
   "source": [
    "📖**Penjelasan**:  \n",
    "Dataset hasil preprocessing disimpan dalam file baru `combined_earthquakes_ID.csv` — siap untuk digunakan!"
   ]
  },
  {
   "cell_type": "markdown",
   "metadata": {},
   "source": [
    "## 📌 Ringkasan Output"
   ]
  },
  {
   "cell_type": "code",
   "execution_count": 24,
   "metadata": {},
   "outputs": [
    {
     "name": "stdout",
     "output_type": "stream",
     "text": [
      "\n",
      "✅ Dataset berhasil dipreproses dan disimpan!\n",
      "Jumlah Baris: 113219\n",
      "Jumlah Kolom: 10\n",
      "\n",
      "Contoh data:\n"
     ]
    },
    {
     "data": {
      "text/html": [
       "<div>\n",
       "<style scoped>\n",
       "    .dataframe tbody tr th:only-of-type {\n",
       "        vertical-align: middle;\n",
       "    }\n",
       "\n",
       "    .dataframe tbody tr th {\n",
       "        vertical-align: top;\n",
       "    }\n",
       "\n",
       "    .dataframe thead th {\n",
       "        text-align: right;\n",
       "    }\n",
       "</style>\n",
       "<table border=\"1\" class=\"dataframe\">\n",
       "  <thead>\n",
       "    <tr style=\"text-align: right;\">\n",
       "      <th></th>\n",
       "      <th>time</th>\n",
       "      <th>region</th>\n",
       "      <th>place</th>\n",
       "      <th>latitude</th>\n",
       "      <th>longitude</th>\n",
       "      <th>depth</th>\n",
       "      <th>magnitude</th>\n",
       "      <th>magnitude_category</th>\n",
       "      <th>depth_category</th>\n",
       "      <th>source</th>\n",
       "    </tr>\n",
       "  </thead>\n",
       "  <tbody>\n",
       "    <tr>\n",
       "      <th>0</th>\n",
       "      <td>2025-04-04 18:07:25</td>\n",
       "      <td>Indonesia</td>\n",
       "      <td>Pariaman</td>\n",
       "      <td>-0.5348</td>\n",
       "      <td>99.5666</td>\n",
       "      <td>10.000</td>\n",
       "      <td>4.7</td>\n",
       "      <td>Light</td>\n",
       "      <td>Shallow</td>\n",
       "      <td>USGS</td>\n",
       "    </tr>\n",
       "    <tr>\n",
       "      <th>1</th>\n",
       "      <td>2025-04-04 14:18:07</td>\n",
       "      <td>Indonesia</td>\n",
       "      <td>Biak</td>\n",
       "      <td>-1.8587</td>\n",
       "      <td>135.7236</td>\n",
       "      <td>22.560</td>\n",
       "      <td>4.4</td>\n",
       "      <td>Light</td>\n",
       "      <td>Shallow</td>\n",
       "      <td>USGS</td>\n",
       "    </tr>\n",
       "    <tr>\n",
       "      <th>2</th>\n",
       "      <td>2025-04-04 13:59:51</td>\n",
       "      <td>Indonesia</td>\n",
       "      <td>Cilacap</td>\n",
       "      <td>-7.9155</td>\n",
       "      <td>109.1106</td>\n",
       "      <td>101.961</td>\n",
       "      <td>4.7</td>\n",
       "      <td>Light</td>\n",
       "      <td>Intermediate</td>\n",
       "      <td>USGS</td>\n",
       "    </tr>\n",
       "    <tr>\n",
       "      <th>3</th>\n",
       "      <td>2025-04-03 20:42:19</td>\n",
       "      <td>Indonesia</td>\n",
       "      <td>Gorontalo</td>\n",
       "      <td>0.5983</td>\n",
       "      <td>121.5558</td>\n",
       "      <td>95.593</td>\n",
       "      <td>4.7</td>\n",
       "      <td>Light</td>\n",
       "      <td>Intermediate</td>\n",
       "      <td>USGS</td>\n",
       "    </tr>\n",
       "    <tr>\n",
       "      <th>4</th>\n",
       "      <td>2025-04-03 04:03:39</td>\n",
       "      <td>Indonesia</td>\n",
       "      <td>Tobelo</td>\n",
       "      <td>2.1167</td>\n",
       "      <td>126.7590</td>\n",
       "      <td>36.700</td>\n",
       "      <td>5.9</td>\n",
       "      <td>Moderate</td>\n",
       "      <td>Shallow</td>\n",
       "      <td>USGS</td>\n",
       "    </tr>\n",
       "  </tbody>\n",
       "</table>\n",
       "</div>"
      ],
      "text/plain": [
       "                  time     region      place  latitude  longitude    depth  \\\n",
       "0  2025-04-04 18:07:25  Indonesia   Pariaman   -0.5348    99.5666   10.000   \n",
       "1  2025-04-04 14:18:07  Indonesia       Biak   -1.8587   135.7236   22.560   \n",
       "2  2025-04-04 13:59:51  Indonesia    Cilacap   -7.9155   109.1106  101.961   \n",
       "3  2025-04-03 20:42:19  Indonesia  Gorontalo    0.5983   121.5558   95.593   \n",
       "4  2025-04-03 04:03:39  Indonesia     Tobelo    2.1167   126.7590   36.700   \n",
       "\n",
       "   magnitude magnitude_category depth_category source  \n",
       "0        4.7              Light        Shallow   USGS  \n",
       "1        4.4              Light        Shallow   USGS  \n",
       "2        4.7              Light   Intermediate   USGS  \n",
       "3        4.7              Light   Intermediate   USGS  \n",
       "4        5.9           Moderate        Shallow   USGS  "
      ]
     },
     "execution_count": 24,
     "metadata": {},
     "output_type": "execute_result"
    }
   ],
   "source": [
    "# Info\n",
    "print(\"\\n✅ Dataset berhasil dipreproses dan disimpan!\")\n",
    "print(\"Jumlah Baris:\", combined_df.shape[0])\n",
    "print(\"Jumlah Kolom:\", combined_df.shape[1])\n",
    "\n",
    "# Tampilkan contoh data\n",
    "print(\"\\nContoh data:\")\n",
    "combined_df.head()\n"
   ]
  },
  {
   "cell_type": "markdown",
   "metadata": {},
   "source": [
    "📖**Penjelasan**:  \n",
    "Menampilkan ringkasan jumlah data dan beberapa baris pertama sebagai preview. Ini langkah validasi kecil untuk memastikan semua berjalan dengan baik."
   ]
  },
  {
   "cell_type": "markdown",
   "metadata": {},
   "source": [
    "---\n",
    "\n",
    "## **🧠 Kesimpulan**\n",
    "\n",
    "Proses preprocessing ini **berfokus pada transformasi semantik dan kategorisasi** untuk mendukung:\n",
    "\n",
    "- Analisis spasial (berdasarkan `region`)\n",
    "- Analisis distribusi magnitudo & kedalaman\n",
    "- Visualisasi data yang rapi dan mudah dibaca\n",
    "\n",
    "🔧 Ini adalah tahapan penting sebelum data bisa digunakan untuk analisis lanjutan seperti visualisasi data\n",
    "\n"
   ]
  },
  {
   "cell_type": "markdown",
   "metadata": {},
   "source": [
    "---\n",
    "\n",
    "## 🧭 Skenario dan Task\n",
    "\n",
    "### 🎯 Tujuan Umum\n",
    "Visualisasi ini dirancang agar pengguna dapat:\n",
    "- Mengetahui **sebaran lokasi gempa di Indonesia**\n",
    "- Menganalisis **pola waktu terjadinya gempa** berdasarkan bulan dan tahun\n",
    "\n",
    "\n",
    "\n",
    "### 📌 Skenario 1 – Warga ingin tahu daerah rawan gempa\n",
    "\n",
    "> **Deskripsi:**  \n",
    "Seorang warga yang tinggal di Indonesia ingin mengetahui daerah-daerah mana saja yang paling sering mengalami gempa bumi.\n",
    "\n",
    "**Task:**\n",
    "- Mengakses peta interaktif yang menampilkan titik-titik lokasi gempa\n",
    "- Melihat detail gempa (magnitudo, kedalaman, waktu, lokasi) saat meng-hover atau klik titik\n",
    "- Menggunakan filter (misalnya: tahun atau kekuatan magnitudo) untuk mempersempit data\n",
    "- Menemukan pola: daerah seperti **Sumatra** atau **Papua** lebih sering mengalami gempa besar\n",
    "\n",
    "**Visualisasi:**  \n",
    "🌍 **Peta Sebaran Gempa** dengan D3.js (menggunakan geoJSON + titik lokasi dari dataset)\n",
    "\n",
    "\n",
    "\n",
    "### 📌 Skenario 2 – Peneliti ingin melihat tren bulanan dan tahunan gempa\n",
    "\n",
    "> **Deskripsi:**  \n",
    "Seorang peneliti kebencanaan ingin mengetahui apakah terdapat pola musiman atau tahunan pada kejadian gempa bumi di Indonesia.\n",
    "\n",
    "**Task:**\n",
    "- Mengakses heatmap frekuensi gempa berdasarkan **bulan dan tahun**\n",
    "- Mengarahkan kursor ke kotak tertentu untuk melihat jumlah gempa spesifik pada bulan & tahun tersebut\n",
    "- Mengidentifikasi bulan atau tahun dengan frekuensi gempa tertinggi\n",
    "- Menyimpulkan apakah terdapat lonjakan aktivitas gempa pada periode tertentu\n",
    "\n",
    "**Visualisasi:**  \n",
    "📊 **Heatmap Waktu** (frekuensi gempa per bulan dan tahun) dengan warna sebagai representasi intensitas\n",
    "\n",
    "---"
   ]
  },
  {
   "cell_type": "markdown",
   "metadata": {},
   "source": [
    "## ❓ Pertanyaan-Pertanyaan Penelitian\n",
    "\n",
    "1. **Di wilayah mana saja di Indonesia gempa bumi paling sering terjadi?**  \n",
    "   → Dijawab dengan **peta interaktif** yang menampilkan titik lokasi gempa secara geografis.\n",
    "\n",
    "2. **Apakah terdapat pola tahunan atau musiman dalam kejadian gempa di Indonesia?**  \n",
    "   → Dijawab dengan **heatmap waktu** yang memperlihatkan frekuensi per bulan dan tahun.\n",
    "\n",
    "3. **Wilayah mana yang paling sering mengalami gempa dengan magnitudo besar (misal ≥ 5.0)?**  \n",
    "   → Dijawab dengan peta interaktif + filter magnitudo.\n",
    "\n",
    "4. **Bagaimana distribusi kedalaman gempa di berbagai wilayah Indonesia?**  \n",
    "   → Dijawab dengan simbol/warna pada peta berdasarkan kategori kedalaman (shallow, intermediate, deep).\n",
    "\n",
    "5. **Apakah terdapat tren peningkatan atau penurunan jumlah gempa dalam beberapa tahun terakhir?**  \n",
    "   → Dijawab melalui heatmap atau grafik tren jumlah gempa per tahun.\n",
    "\n",
    "6. **Bulan apa yang paling sering terjadi gempa bumi selama periode pengamatan?**  \n",
    "   → Dijawab dengan heatmap frekuensi bulanan.\n",
    "\n",
    "7. **Apakah terdapat hubungan antara magnitudo dan kedalaman gempa di wilayah tertentu?**  \n",
    "   → Bisa dijawab dengan visual scatter plot interaktif tambahan atau informasi pada tooltip peta.\n",
    "\n",
    "---"
   ]
  },
  {
   "cell_type": "markdown",
   "metadata": {},
   "source": []
  }
 ],
 "metadata": {
  "kernelspec": {
   "display_name": "Python 3",
   "language": "python",
   "name": "python3"
  },
  "language_info": {
   "codemirror_mode": {
    "name": "ipython",
    "version": 3
   },
   "file_extension": ".py",
   "mimetype": "text/x-python",
   "name": "python",
   "nbconvert_exporter": "python",
   "pygments_lexer": "ipython3",
   "version": "3.10.7"
  }
 },
 "nbformat": 4,
 "nbformat_minor": 2
}
